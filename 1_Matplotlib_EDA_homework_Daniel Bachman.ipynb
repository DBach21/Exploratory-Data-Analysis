{
 "cells": [
  {
   "cell_type": "code",
   "execution_count": 1,
   "metadata": {},
   "outputs": [],
   "source": [
    "%matplotlib inline"
   ]
  },
  {
   "cell_type": "code",
   "execution_count": 2,
   "metadata": {},
   "outputs": [],
   "source": [
    "import numpy as np\n",
    "import pandas as pd\n",
    "\n",
    "import matplotlib.pyplot as plt\n",
    "\n",
    "pd.set_option('display.max.columns', None)"
   ]
  },
  {
   "cell_type": "markdown",
   "metadata": {},
   "source": [
    "# Homework 1 &mdash; Exploratory Data Analysis with Python\n",
    "\n",
    "As you learned during the first week of the course, data visualization is a critical component of exploratory data analysis (EDA) that can help you quickly familiarize yourself with the data, as well as identify any outliers or missing values in your dataset. In this homework assignment, you will get a chance to put your new Python and matplotlib skills to use by creating some of the new chart types you learned during class to explore the Global Superstore dataset. \n",
    "\n",
    "Global Superstore is a fictional international retail chain that sells office supplies to customers across the globe. The dataset consists of one Excel workbook and one CSV file, both of which you can find in the `datasets/` folder of the course's GitHub [repository](https://github.com/georgetown-analytics/XBUS-400.04.Data_Visualization). \n",
    "\n",
    "The Excel file, `\"global_superstore.xls\"`, contains three sheets&mdash;`Orders`, `People`, and `Returns`. For this assignment, you will work with the sales data from the `Orders` sheet, where each row represents a single transaction. So that you can use pandas `read_csv()` function, the data from the `Orders` sheet has been saved as a separate CSV file, `\"global_superstore_orders.csv\"`.\n",
    "\n",
    "To begin, start by importing the CSV file into a pandas DataFrame and take advantage of the method's optional `dtype` parameter set the following fields as a `\"category\"` dtype&mdash;`Category`, `City`, `Country`, `Order Priority`, `Sales`, `Ship Mode`, and `Shipping Cost`.\n",
    "\n",
    "Pandas `read_csv` [documentation](https://pandas.pydata.org/pandas-docs/stable/reference/api/pandas.read_csv.html)"
   ]
  },
  {
   "cell_type": "code",
   "execution_count": 3,
   "metadata": {},
   "outputs": [
    {
     "data": {
      "text/html": [
       "<div>\n",
       "<style scoped>\n",
       "    .dataframe tbody tr th:only-of-type {\n",
       "        vertical-align: middle;\n",
       "    }\n",
       "\n",
       "    .dataframe tbody tr th {\n",
       "        vertical-align: top;\n",
       "    }\n",
       "\n",
       "    .dataframe thead th {\n",
       "        text-align: right;\n",
       "    }\n",
       "</style>\n",
       "<table border=\"1\" class=\"dataframe\">\n",
       "  <thead>\n",
       "    <tr style=\"text-align: right;\">\n",
       "      <th></th>\n",
       "      <th>Row ID</th>\n",
       "      <th>Order ID</th>\n",
       "      <th>Order Date</th>\n",
       "      <th>Ship Date</th>\n",
       "      <th>Ship Mode</th>\n",
       "      <th>Customer ID</th>\n",
       "      <th>Customer Name</th>\n",
       "      <th>Segment</th>\n",
       "      <th>City</th>\n",
       "      <th>State</th>\n",
       "      <th>Country</th>\n",
       "      <th>Postal Code</th>\n",
       "      <th>Market</th>\n",
       "      <th>Region</th>\n",
       "      <th>Product ID</th>\n",
       "      <th>Category</th>\n",
       "      <th>Sub-Category</th>\n",
       "      <th>Product Name</th>\n",
       "      <th>Sales</th>\n",
       "      <th>Quantity</th>\n",
       "      <th>Discount</th>\n",
       "      <th>Profit</th>\n",
       "      <th>Shipping Cost</th>\n",
       "      <th>Order Priority</th>\n",
       "    </tr>\n",
       "  </thead>\n",
       "  <tbody>\n",
       "    <tr>\n",
       "      <th>0</th>\n",
       "      <td>32298</td>\n",
       "      <td>CA-2012-124891</td>\n",
       "      <td>7/31/2012</td>\n",
       "      <td>7/31/2012</td>\n",
       "      <td>Same Day</td>\n",
       "      <td>RH-19495</td>\n",
       "      <td>Rick Hansen</td>\n",
       "      <td>Consumer</td>\n",
       "      <td>New York City</td>\n",
       "      <td>New York</td>\n",
       "      <td>United States</td>\n",
       "      <td>10024.0</td>\n",
       "      <td>US</td>\n",
       "      <td>East</td>\n",
       "      <td>TEC-AC-10003033</td>\n",
       "      <td>Technology</td>\n",
       "      <td>Accessories</td>\n",
       "      <td>Plantronics CS510 - Over-the-Head monaural Wir...</td>\n",
       "      <td>2309.650</td>\n",
       "      <td>7</td>\n",
       "      <td>0.0</td>\n",
       "      <td>762.1845</td>\n",
       "      <td>933.57</td>\n",
       "      <td>Critical</td>\n",
       "    </tr>\n",
       "    <tr>\n",
       "      <th>1</th>\n",
       "      <td>26341</td>\n",
       "      <td>IN-2013-77878</td>\n",
       "      <td>2/5/2013</td>\n",
       "      <td>2/7/2013</td>\n",
       "      <td>Second Class</td>\n",
       "      <td>JR-16210</td>\n",
       "      <td>Justin Ritter</td>\n",
       "      <td>Corporate</td>\n",
       "      <td>Wollongong</td>\n",
       "      <td>New South Wales</td>\n",
       "      <td>Australia</td>\n",
       "      <td>NaN</td>\n",
       "      <td>APAC</td>\n",
       "      <td>Oceania</td>\n",
       "      <td>FUR-CH-10003950</td>\n",
       "      <td>Furniture</td>\n",
       "      <td>Chairs</td>\n",
       "      <td>Novimex Executive Leather Armchair, Black</td>\n",
       "      <td>3709.395</td>\n",
       "      <td>9</td>\n",
       "      <td>0.1</td>\n",
       "      <td>-288.7650</td>\n",
       "      <td>923.63</td>\n",
       "      <td>Critical</td>\n",
       "    </tr>\n",
       "    <tr>\n",
       "      <th>2</th>\n",
       "      <td>25330</td>\n",
       "      <td>IN-2013-71249</td>\n",
       "      <td>10/17/2013</td>\n",
       "      <td>10/18/2013</td>\n",
       "      <td>First Class</td>\n",
       "      <td>CR-12730</td>\n",
       "      <td>Craig Reiter</td>\n",
       "      <td>Consumer</td>\n",
       "      <td>Brisbane</td>\n",
       "      <td>Queensland</td>\n",
       "      <td>Australia</td>\n",
       "      <td>NaN</td>\n",
       "      <td>APAC</td>\n",
       "      <td>Oceania</td>\n",
       "      <td>TEC-PH-10004664</td>\n",
       "      <td>Technology</td>\n",
       "      <td>Phones</td>\n",
       "      <td>Nokia Smart Phone, with Caller ID</td>\n",
       "      <td>5175.171</td>\n",
       "      <td>9</td>\n",
       "      <td>0.1</td>\n",
       "      <td>919.9710</td>\n",
       "      <td>915.49</td>\n",
       "      <td>Medium</td>\n",
       "    </tr>\n",
       "    <tr>\n",
       "      <th>3</th>\n",
       "      <td>13524</td>\n",
       "      <td>ES-2013-1579342</td>\n",
       "      <td>1/28/2013</td>\n",
       "      <td>1/30/2013</td>\n",
       "      <td>First Class</td>\n",
       "      <td>KM-16375</td>\n",
       "      <td>Katherine Murray</td>\n",
       "      <td>Home Office</td>\n",
       "      <td>Berlin</td>\n",
       "      <td>Berlin</td>\n",
       "      <td>Germany</td>\n",
       "      <td>NaN</td>\n",
       "      <td>EU</td>\n",
       "      <td>Central</td>\n",
       "      <td>TEC-PH-10004583</td>\n",
       "      <td>Technology</td>\n",
       "      <td>Phones</td>\n",
       "      <td>Motorola Smart Phone, Cordless</td>\n",
       "      <td>2892.510</td>\n",
       "      <td>5</td>\n",
       "      <td>0.1</td>\n",
       "      <td>-96.5400</td>\n",
       "      <td>910.16</td>\n",
       "      <td>Medium</td>\n",
       "    </tr>\n",
       "    <tr>\n",
       "      <th>4</th>\n",
       "      <td>47221</td>\n",
       "      <td>SG-2013-4320</td>\n",
       "      <td>11/5/2013</td>\n",
       "      <td>11/6/2013</td>\n",
       "      <td>Same Day</td>\n",
       "      <td>RH-9495</td>\n",
       "      <td>Rick Hansen</td>\n",
       "      <td>Consumer</td>\n",
       "      <td>Dakar</td>\n",
       "      <td>Dakar</td>\n",
       "      <td>Senegal</td>\n",
       "      <td>NaN</td>\n",
       "      <td>Africa</td>\n",
       "      <td>Africa</td>\n",
       "      <td>TEC-SHA-10000501</td>\n",
       "      <td>Technology</td>\n",
       "      <td>Copiers</td>\n",
       "      <td>Sharp Wireless Fax, High-Speed</td>\n",
       "      <td>2832.960</td>\n",
       "      <td>8</td>\n",
       "      <td>0.0</td>\n",
       "      <td>311.5200</td>\n",
       "      <td>903.04</td>\n",
       "      <td>Critical</td>\n",
       "    </tr>\n",
       "  </tbody>\n",
       "</table>\n",
       "</div>"
      ],
      "text/plain": [
       "   Row ID         Order ID  Order Date   Ship Date     Ship Mode Customer ID  \\\n",
       "0   32298   CA-2012-124891   7/31/2012   7/31/2012      Same Day    RH-19495   \n",
       "1   26341    IN-2013-77878    2/5/2013    2/7/2013  Second Class    JR-16210   \n",
       "2   25330    IN-2013-71249  10/17/2013  10/18/2013   First Class    CR-12730   \n",
       "3   13524  ES-2013-1579342   1/28/2013   1/30/2013   First Class    KM-16375   \n",
       "4   47221     SG-2013-4320   11/5/2013   11/6/2013      Same Day     RH-9495   \n",
       "\n",
       "      Customer Name      Segment           City            State  \\\n",
       "0       Rick Hansen     Consumer  New York City         New York   \n",
       "1     Justin Ritter    Corporate     Wollongong  New South Wales   \n",
       "2      Craig Reiter     Consumer       Brisbane       Queensland   \n",
       "3  Katherine Murray  Home Office         Berlin           Berlin   \n",
       "4       Rick Hansen     Consumer          Dakar            Dakar   \n",
       "\n",
       "         Country  Postal Code  Market   Region        Product ID    Category  \\\n",
       "0  United States      10024.0      US     East   TEC-AC-10003033  Technology   \n",
       "1      Australia          NaN    APAC  Oceania   FUR-CH-10003950   Furniture   \n",
       "2      Australia          NaN    APAC  Oceania   TEC-PH-10004664  Technology   \n",
       "3        Germany          NaN      EU  Central   TEC-PH-10004583  Technology   \n",
       "4        Senegal          NaN  Africa   Africa  TEC-SHA-10000501  Technology   \n",
       "\n",
       "  Sub-Category                                       Product Name     Sales  \\\n",
       "0  Accessories  Plantronics CS510 - Over-the-Head monaural Wir...  2309.650   \n",
       "1       Chairs          Novimex Executive Leather Armchair, Black  3709.395   \n",
       "2       Phones                  Nokia Smart Phone, with Caller ID  5175.171   \n",
       "3       Phones                     Motorola Smart Phone, Cordless  2892.510   \n",
       "4      Copiers                     Sharp Wireless Fax, High-Speed  2832.960   \n",
       "\n",
       "   Quantity  Discount    Profit  Shipping Cost Order Priority  \n",
       "0         7       0.0  762.1845         933.57       Critical  \n",
       "1         9       0.1 -288.7650         923.63       Critical  \n",
       "2         9       0.1  919.9710         915.49         Medium  \n",
       "3         5       0.1  -96.5400         910.16         Medium  \n",
       "4         8       0.0  311.5200         903.04       Critical  "
      ]
     },
     "execution_count": 3,
     "metadata": {},
     "output_type": "execute_result"
    }
   ],
   "source": [
    "# Import the Global Superstore dataset\n",
    "df = pd.read_csv('global_superstore_orders.csv', dtype={'Category': 'category',\n",
    "                                                                    'Ship Mode': 'category',\n",
    "                                                                    'Country': 'category',\n",
    "                                                                    'City': 'category',\n",
    "                                                                    'Order Priority': 'category'})\n",
    "    \n",
    "# Print the first 5 rows of the data\n",
    "df.head()"
   ]
  },
  {
   "cell_type": "markdown",
   "metadata": {},
   "source": [
    "Here, display all columns and their data types."
   ]
  },
  {
   "cell_type": "code",
   "execution_count": 4,
   "metadata": {},
   "outputs": [
    {
     "name": "stdout",
     "output_type": "stream",
     "text": [
      "<class 'pandas.core.frame.DataFrame'>\n",
      "RangeIndex: 51290 entries, 0 to 51289\n",
      "Data columns (total 24 columns):\n",
      " #   Column          Non-Null Count  Dtype   \n",
      "---  ------          --------------  -----   \n",
      " 0   Row ID          51290 non-null  int64   \n",
      " 1   Order ID        51290 non-null  object  \n",
      " 2   Order Date      51290 non-null  object  \n",
      " 3   Ship Date       51290 non-null  object  \n",
      " 4   Ship Mode       51290 non-null  category\n",
      " 5   Customer ID     51290 non-null  object  \n",
      " 6   Customer Name   51290 non-null  object  \n",
      " 7   Segment         51290 non-null  object  \n",
      " 8   City            51290 non-null  category\n",
      " 9   State           51290 non-null  object  \n",
      " 10  Country         51290 non-null  category\n",
      " 11  Postal Code     9994 non-null   float64 \n",
      " 12  Market          51290 non-null  object  \n",
      " 13  Region          51290 non-null  object  \n",
      " 14  Product ID      51290 non-null  object  \n",
      " 15  Category        51290 non-null  category\n",
      " 16  Sub-Category    51290 non-null  object  \n",
      " 17  Product Name    51290 non-null  object  \n",
      " 18  Sales           51290 non-null  float64 \n",
      " 19  Quantity        51290 non-null  int64   \n",
      " 20  Discount        51290 non-null  float64 \n",
      " 21  Profit          51290 non-null  float64 \n",
      " 22  Shipping Cost   51290 non-null  float64 \n",
      " 23  Order Priority  51290 non-null  category\n",
      "dtypes: category(5), float64(5), int64(2), object(12)\n",
      "memory usage: 8.0+ MB\n"
     ]
    }
   ],
   "source": [
    "df.info()"
   ]
  },
  {
   "cell_type": "markdown",
   "metadata": {},
   "source": [
    "Next, call the DataFrame `describe()` method to see some statistical information about the Global Superstore dataset.\n",
    "\n",
    "Pandas `describe` [documentation](https://pandas.pydata.org/pandas-docs/stable/reference/api/pandas.DataFrame.describe.html)"
   ]
  },
  {
   "cell_type": "code",
   "execution_count": 5,
   "metadata": {},
   "outputs": [
    {
     "data": {
      "text/html": [
       "<div>\n",
       "<style scoped>\n",
       "    .dataframe tbody tr th:only-of-type {\n",
       "        vertical-align: middle;\n",
       "    }\n",
       "\n",
       "    .dataframe tbody tr th {\n",
       "        vertical-align: top;\n",
       "    }\n",
       "\n",
       "    .dataframe thead th {\n",
       "        text-align: right;\n",
       "    }\n",
       "</style>\n",
       "<table border=\"1\" class=\"dataframe\">\n",
       "  <thead>\n",
       "    <tr style=\"text-align: right;\">\n",
       "      <th></th>\n",
       "      <th>Row ID</th>\n",
       "      <th>Postal Code</th>\n",
       "      <th>Sales</th>\n",
       "      <th>Quantity</th>\n",
       "      <th>Discount</th>\n",
       "      <th>Profit</th>\n",
       "      <th>Shipping Cost</th>\n",
       "    </tr>\n",
       "  </thead>\n",
       "  <tbody>\n",
       "    <tr>\n",
       "      <th>count</th>\n",
       "      <td>51290.00000</td>\n",
       "      <td>9994.000000</td>\n",
       "      <td>51290.000000</td>\n",
       "      <td>51290.000000</td>\n",
       "      <td>51290.000000</td>\n",
       "      <td>51290.000000</td>\n",
       "      <td>51290.000000</td>\n",
       "    </tr>\n",
       "    <tr>\n",
       "      <th>mean</th>\n",
       "      <td>25645.50000</td>\n",
       "      <td>55190.379428</td>\n",
       "      <td>246.490581</td>\n",
       "      <td>3.476545</td>\n",
       "      <td>0.142908</td>\n",
       "      <td>28.610982</td>\n",
       "      <td>26.375915</td>\n",
       "    </tr>\n",
       "    <tr>\n",
       "      <th>std</th>\n",
       "      <td>14806.29199</td>\n",
       "      <td>32063.693350</td>\n",
       "      <td>487.565361</td>\n",
       "      <td>2.278766</td>\n",
       "      <td>0.212280</td>\n",
       "      <td>174.340972</td>\n",
       "      <td>57.296804</td>\n",
       "    </tr>\n",
       "    <tr>\n",
       "      <th>min</th>\n",
       "      <td>1.00000</td>\n",
       "      <td>1040.000000</td>\n",
       "      <td>0.444000</td>\n",
       "      <td>1.000000</td>\n",
       "      <td>0.000000</td>\n",
       "      <td>-6599.978000</td>\n",
       "      <td>0.000000</td>\n",
       "    </tr>\n",
       "    <tr>\n",
       "      <th>25%</th>\n",
       "      <td>12823.25000</td>\n",
       "      <td>23223.000000</td>\n",
       "      <td>30.758625</td>\n",
       "      <td>2.000000</td>\n",
       "      <td>0.000000</td>\n",
       "      <td>0.000000</td>\n",
       "      <td>2.610000</td>\n",
       "    </tr>\n",
       "    <tr>\n",
       "      <th>50%</th>\n",
       "      <td>25645.50000</td>\n",
       "      <td>56430.500000</td>\n",
       "      <td>85.053000</td>\n",
       "      <td>3.000000</td>\n",
       "      <td>0.000000</td>\n",
       "      <td>9.240000</td>\n",
       "      <td>7.790000</td>\n",
       "    </tr>\n",
       "    <tr>\n",
       "      <th>75%</th>\n",
       "      <td>38467.75000</td>\n",
       "      <td>90008.000000</td>\n",
       "      <td>251.053200</td>\n",
       "      <td>5.000000</td>\n",
       "      <td>0.200000</td>\n",
       "      <td>36.810000</td>\n",
       "      <td>24.450000</td>\n",
       "    </tr>\n",
       "    <tr>\n",
       "      <th>max</th>\n",
       "      <td>51290.00000</td>\n",
       "      <td>99301.000000</td>\n",
       "      <td>22638.480000</td>\n",
       "      <td>14.000000</td>\n",
       "      <td>0.850000</td>\n",
       "      <td>8399.976000</td>\n",
       "      <td>933.570000</td>\n",
       "    </tr>\n",
       "  </tbody>\n",
       "</table>\n",
       "</div>"
      ],
      "text/plain": [
       "            Row ID   Postal Code         Sales      Quantity      Discount  \\\n",
       "count  51290.00000   9994.000000  51290.000000  51290.000000  51290.000000   \n",
       "mean   25645.50000  55190.379428    246.490581      3.476545      0.142908   \n",
       "std    14806.29199  32063.693350    487.565361      2.278766      0.212280   \n",
       "min        1.00000   1040.000000      0.444000      1.000000      0.000000   \n",
       "25%    12823.25000  23223.000000     30.758625      2.000000      0.000000   \n",
       "50%    25645.50000  56430.500000     85.053000      3.000000      0.000000   \n",
       "75%    38467.75000  90008.000000    251.053200      5.000000      0.200000   \n",
       "max    51290.00000  99301.000000  22638.480000     14.000000      0.850000   \n",
       "\n",
       "             Profit  Shipping Cost  \n",
       "count  51290.000000   51290.000000  \n",
       "mean      28.610982      26.375915  \n",
       "std      174.340972      57.296804  \n",
       "min    -6599.978000       0.000000  \n",
       "25%        0.000000       2.610000  \n",
       "50%        9.240000       7.790000  \n",
       "75%       36.810000      24.450000  \n",
       "max     8399.976000     933.570000  "
      ]
     },
     "execution_count": 5,
     "metadata": {},
     "output_type": "execute_result"
    }
   ],
   "source": [
    "# Retrieve summary statistics \n",
    "df.describe()"
   ]
  },
  {
   "cell_type": "markdown",
   "metadata": {},
   "source": [
    "# EDA Questions\n",
    "\n",
    "Next, imagine that you've just been hired as a Data Analyst in Global Superstore's fast-paced Data Analytics division. You want to quickly get up to speed and learn more about your new employer. And now that you've had a chance to quickly look at your data, what questions do you have?\n",
    "\n",
    "*Write in 2-3 questions that you are interested in learning about the data*  \n",
    "1. Which sub cateogry has the most orders?\n",
    "2. What is the breakdown of the shipping mode?\n",
    "3. Which segment nets the most profit? Based on that segment, what market yields the most profit for that segment?\n",
    "\n",
    "Now it's time to try out your new EDA skills! Working in this Jupyter notebook, you should create a minimum of 5 different types of visualizations to explore the data and to see whether it can be used to answer your questions. Each chart must also include a title, and you should be sure to label the x- and y-axis.\n",
    "\n",
    "If you find that you aren't able to answer all of the questions you originally proposed, don't worry! As Data Analysts, we often don't know what type of insights or analysis is possible until we've had the chance to use some of the EDA techniques you've learned in class. What is important here to complete this assignment is to show your work in the Jupyter notebook and to answer the questions explaining what you discovered while exploring this dataset."
   ]
  },
  {
   "cell_type": "code",
   "execution_count": 85,
   "metadata": {},
   "outputs": [
    {
     "data": {
      "image/png": "[encoded data removed]",
      "text/plain": [
       "<Figure size 1080x216 with 1 Axes>"
      ]
     },
     "metadata": {
      "needs_background": "light"
     },
     "output_type": "display_data"
    }
   ],
   "source": [
    "fig, ax = plt.subplots(figsize = (15, 3))\n",
    "\n",
    "top_five = df['Sub-Category'].value_counts()[:5]\n",
    "\n",
    "top_five.plot(kind = 'bar', ax = ax, rot = 0)\n",
    "\n",
    "ax.set_title('Number of Orders by Sub Category', size = 18)\n",
    "\n",
    "ax.set_xlabel('Sub Category', size = 14)\n",
    "\n",
    "ax.set_ylabel('Number of Orders', size = 14);"
   ]
  },
  {
   "cell_type": "code",
   "execution_count": 86,
   "metadata": {},
   "outputs": [
    {
     "data": {
      "image/png": "[encoded data removed]",
      "text/plain": [
       "<Figure size 360x360 with 1 Axes>"
      ]
     },
     "metadata": {},
     "output_type": "display_data"
    }
   ],
   "source": [
    "fig, ax = plt.subplots(figsize=(5,5))\n",
    "\n",
    "ax.pie(df['Ship Mode'].value_counts(),\n",
    "       labels = df['Ship Mode'].unique().tolist(),\n",
    "       autopct = '%1.1f%%',\n",
    "       explode = (0.1, 0, 0, 0),\n",
    "       startangle = 90,\n",
    "       textprops = {'fontsize': 12, 'color': 'white'})\n",
    "\n",
    "ax.set_title('Ship Mode Breakdown', size = 18)\n",
    "\n",
    "ax.legend(bbox_to_anchor = (1, 0, 0.25, 0.8), fontsize = 10, title = 'Ship Mode')\n",
    "\n",
    "ax.axis('equal');  "
   ]
  },
  {
   "cell_type": "code",
   "execution_count": 90,
   "metadata": {},
   "outputs": [
    {
     "data": {
      "image/png": "[encoded data removed]",
      "text/plain": [
       "<Figure size 432x288 with 1 Axes>"
      ]
     },
     "metadata": {
      "needs_background": "light"
     },
     "output_type": "display_data"
    }
   ],
   "source": [
    "df[['Segment', 'Profit']].groupby('Segment').sum().plot.barh(color = 'blue', legend = '')\n",
    "\n",
    "plt.title('Profit by Segment', size = 16)\n",
    "\n",
    "plt.xlabel('Profit ($)', size = 12)\n",
    "plt.ylabel('Segment', size = 12);"
   ]
  },
  {
   "cell_type": "code",
   "execution_count": 91,
   "metadata": {},
   "outputs": [
    {
     "data": {
      "image/png": "[encoded data removed]",
      "text/plain": [
       "<Figure size 432x288 with 1 Axes>"
      ]
     },
     "metadata": {
      "needs_background": "light"
     },
     "output_type": "display_data"
    }
   ],
   "source": [
    "consumer = df[df['Segment'] == 'Consumer']\n",
    "consumer[['Market', 'Profit']].groupby('Market').sum().plot.barh(legend = '')\n",
    "\n",
    "plt.title('Consumer Segment Profit by Market', size = 16)\n",
    "\n",
    "plt.xlabel('Profit ($)', size = 12)\n",
    "plt.ylabel('Market', size = 12);"
   ]
  },
  {
   "cell_type": "code",
   "execution_count": 100,
   "metadata": {},
   "outputs": [
    {
     "data": {
      "image/png": "[encoded data removed]",
      "text/plain": [
       "<Figure size 432x288 with 1 Axes>"
      ]
     },
     "metadata": {
      "needs_background": "light"
     },
     "output_type": "display_data"
    }
   ],
   "source": [
    "fig, ax = plt.subplots()\n",
    "  \n",
    "ax.boxplot(df['Quantity'], showfliers = True, vert = False)\n",
    "\n",
    "ax.set_title('Quantity Distribution', size = 16)\n",
    "\n",
    "ax.set_xlabel('Quantity Ordered', size = 14)\n",
    "\n",
    "ax.xaxis.grid(True);"
   ]
  },
  {
   "cell_type": "code",
   "execution_count": 101,
   "metadata": {},
   "outputs": [
    {
     "data": {
      "image/png": "[encoded data removed]",
      "text/plain": [
       "<Figure size 432x288 with 9 Axes>"
      ]
     },
     "metadata": {
      "needs_background": "light"
     },
     "output_type": "display_data"
    }
   ],
   "source": [
    "df.hist()\n",
    "\n",
    "plt.tight_layout();"
   ]
  },
  {
   "cell_type": "code",
   "execution_count": 107,
   "metadata": {},
   "outputs": [
    {
     "data": {
      "image/png": "[encoded data removed]",
      "text/plain": [
       "<Figure size 432x288 with 1 Axes>"
      ]
     },
     "metadata": {
      "needs_background": "light"
     },
     "output_type": "display_data"
    }
   ],
   "source": [
    "fig, ax = plt.subplots()\n",
    "\n",
    "ax.plot(df['Shipping Cost'], df['Profit'], 'go')\n",
    "\n",
    "ax.set_title('Profit & Shipping Cost Scatter Plot', size = 16)\n",
    "\n",
    "ax.set_xlabel('Shipping Cost ($)', size = 12)\n",
    "ax.set_ylabel('Profit ($)', size = 12);"
   ]
  },
  {
   "cell_type": "markdown",
   "metadata": {},
   "source": [
    "# Conclusions\n",
    "\n",
    "What did you find out? Were you able to answer all of your original questions or did you have new questions come up as you explored the data? In 2-3 short paragraphs, please give a brief overview of what you discovered about your new employer. Was there anything that surprised you or did you find certain types of charts more helpful when you first began? \n",
    "\n",
    "**Answer:**  \n",
    "\n",
    "Overall we were able to answer all of the original questions that we had for our new employer. For the first question, we looked at the top five selling subcategory's. From that we saw that binders had the most number of orders, followed by storage, art, paper and lastly chairs.  The second question was concerned about the breakdown of our ship modes. We learned that the majority (~ 60%) of how we ship is same day; we should definitely dig into this cateogry more to see if there are any countries, cities, customers, etc. that repeatedly ask for same day shipping. Lastly, we learned that our consumer segment yielded the most profit, and from that segment, the APAC and EU markets have the highest profit levels.\n",
    "    \n",
    "We also looked at the quantity distribution of items ordered (Per order). Our mean is ~ 3.5, with most orders falling in the one to nine items ordered per order. When it came to examaning further distribution, we displayed the available histograms, but generally they did not provide a vast amount of relevant data. We also looked at the relationship between shipping cost and profit, and found a strong correlation between the two (With some outliers visible)."
   ]
  },
  {
   "cell_type": "markdown",
   "metadata": {},
   "source": [
    "# Submission\n",
    "\n",
    "To submit this assignment, you will need to upload a copy of this Jupyter notebook to Canvas. You can do this by clicking the `Submit Assignment` button on the upper right-hand corner of the homework assignment page. Scroll below for the `File Upload` box to choose and attach a copy of the Jupyter notebook file (`.ipynb`).\n",
    "\n",
    "You will also need to upload a zip file containing the PNG images of your charts and an HTML version of your notebook. The zip folder can be created in one step directly here in your Jupyter notebook by clicking:  `File`  →  `Download as`  →  `HTML with toc (.html)`\n",
    "\n",
    "Please remember that the assignment is due by the end of the following day at midnight. If you have any questions or find yourself struggling, please don't hesitate to reach out!"
   ]
  }
 ],
 "metadata": {
  "kernelspec": {
   "display_name": "Python 3 (ipykernel)",
   "language": "python",
   "name": "python3"
  },
  "language_info": {
   "codemirror_mode": {
    "name": "ipython",
    "version": 3
   },
   "file_extension": ".py",
   "mimetype": "text/x-python",
   "name": "python",
   "nbconvert_exporter": "python",
   "pygments_lexer": "ipython3",
   "version": "3.8.12"
  },
  "toc": {
   "base_numbering": 1,
   "nav_menu": {},
   "number_sections": true,
   "sideBar": true,
   "skip_h1_title": false,
   "title_cell": "Table of Contents",
   "title_sidebar": "Contents",
   "toc_cell": false,
   "toc_position": {
    "height": "calc(100% - 180px)",
    "left": "10px",
    "top": "150px",
    "width": "193px"
   },
   "toc_section_display": true,
   "toc_window_display": true
  }
 },
 "nbformat": 4,
 "nbformat_minor": 4
}
